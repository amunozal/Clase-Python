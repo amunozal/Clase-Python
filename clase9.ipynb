{
 "cells": [
  {
   "cell_type": "markdown",
   "metadata": {},
   "source": [
    "cada vez que ceramos un objeto de esa clase, la identificacion del constructor es la primera en ejecutarse\n",
    "la forma de inicializar el valor de un atributo de clase son constructor"
   ]
  },
  {
   "cell_type": "markdown",
   "metadata": {},
   "source": [
    "class three:\n",
    "        val=7\n",
    "#Constructor __init__(self)"
   ]
  },
  {
   "cell_type": "markdown",
   "metadata": {},
   "source": [
    "tambien podemos hacer esto dentro de las funciones de clase:"
   ]
  },
  {
   "cell_type": "code",
   "execution_count": 16,
   "metadata": {},
   "outputs": [
    {
     "data": {
      "text/plain": [
       "8"
      ]
     },
     "execution_count": 16,
     "metadata": {},
     "output_type": "execute_result"
    }
   ],
   "source": [
    "class three:\n",
    "        def func(self,val):\n",
    "            self.val=val\n",
    "t=three()\n",
    "t.func(8)\n",
    "t.val"
   ]
  },
  {
   "cell_type": "code",
   "execution_count": 18,
   "metadata": {},
   "outputs": [
    {
     "data": {
      "text/plain": [
       "6"
      ]
     },
     "execution_count": 18,
     "metadata": {},
     "output_type": "execute_result"
    }
   ],
   "source": [
    "t.func(6) #Tambien nos permite reinicializar atributos\n",
    "t.val"
   ]
  },
  {
   "cell_type": "code",
   "execution_count": 23,
   "metadata": {},
   "outputs": [
    {
     "name": "stdout",
     "output_type": "stream",
     "text": [
      "What value?HOla\n"
     ]
    }
   ],
   "source": [
    "#o podemos pedirle informacion al usuario.\n",
    "\n",
    "class three:\n",
    "    def __init__(self):\n",
    "        self.val=input(\"What value?\")\n",
    "t=three()"
   ]
  },
  {
   "cell_type": "code",
   "execution_count": 24,
   "metadata": {},
   "outputs": [
    {
     "data": {
      "text/plain": [
       "'HOla'"
      ]
     },
     "execution_count": 24,
     "metadata": {},
     "output_type": "execute_result"
    }
   ],
   "source": [
    "t.val"
   ]
  },
  {
   "cell_type": "markdown",
   "metadata": {},
   "source": [
    "creacion de objetos\n",
    " _new__ es un metodo de clase estatica nos permite controlar la creacion de objetos \n",
    "cada vez que hacemos una llamada al constructor de la clase, realiza una llamada a __new__\n",
    "si bien esta es una funcion predeterminada para cada clase, definitivamente podemos jugar con ella"
   ]
  },
  {
   "cell_type": "code",
   "execution_count": 34,
   "metadata": {},
   "outputs": [
    {
     "data": {
      "text/plain": [
       "str"
      ]
     },
     "execution_count": 34,
     "metadata": {},
     "output_type": "execute_result"
    }
   ],
   "source": [
    "class demo:\n",
    "        def __new__(self):\n",
    "                return 'dataflair'\n",
    "d=demo()\n",
    "type(d)"
   ]
  },
  {
   "cell_type": "markdown",
   "metadata": {},
   "source": [
    "Tambien podemos crear un nuevo atributo exclusivamente para este objeto y leerlo al definir valores\n",
    "no hay mucho que pueda hacer una vez que ya haya definido el objeto"
   ]
  },
  {
   "cell_type": "code",
   "execution_count": 33,
   "metadata": {},
   "outputs": [
    {
     "ename": "NameError",
     "evalue": "name 'kumquat' is not defined",
     "output_type": "error",
     "traceback": [
      "\u001b[0;31m---------------------------------------------------------------------------\u001b[0m",
      "\u001b[0;31mNameError\u001b[0m                                 Traceback (most recent call last)",
      "\u001b[0;32m<ipython-input-33-9ead8dec7c09>\u001b[0m in \u001b[0;36m<module>\u001b[0;34m\u001b[0m\n\u001b[0;32m----> 1\u001b[0;31m \u001b[0mkumquat\u001b[0m\u001b[0;34m.\u001b[0m\u001b[0mcolor\u001b[0m\u001b[0;34m=\u001b[0m\u001b[0;34m'orange'\u001b[0m\u001b[0;34m\u001b[0m\u001b[0m\n\u001b[0m\u001b[1;32m      2\u001b[0m \u001b[0mprint\u001b[0m\u001b[0;34m(\u001b[0m\u001b[0;34m\"i am\"\u001b[0m\u001b[0;34m,\u001b[0m\u001b[0mkumquat\u001b[0m\u001b[0;34m.\u001b[0m\u001b[0mcolor\u001b[0m\u001b[0;34m)\u001b[0m\u001b[0;34m\u001b[0m\u001b[0m\n",
      "\u001b[0;31mNameError\u001b[0m: name 'kumquat' is not defined"
     ]
    }
   ],
   "source": [
    "kumquat.color='orange'\n",
    "print(\"i am\",kumquat.color)"
   ]
  },
  {
   "cell_type": "markdown",
   "metadata": {},
   "source": [
    "Entonces,que sucede cuando no proporcionamos explicitamente un constructor para una clase?\n",
    "puede PYTHON manejarlo? por que no lo intentamos?"
   ]
  },
  {
   "cell_type": "code",
   "execution_count": 38,
   "metadata": {},
   "outputs": [
    {
     "ename": "SyntaxError",
     "evalue": "invalid syntax (<ipython-input-38-75c5d7c958f1>, line 4)",
     "output_type": "error",
     "traceback": [
      "\u001b[0;36m  File \u001b[0;32m\"<ipython-input-38-75c5d7c958f1>\"\u001b[0;36m, line \u001b[0;32m4\u001b[0m\n\u001b[0;31m    orange=color()\u001b[0m\n\u001b[0m         ^\u001b[0m\n\u001b[0;31mSyntaxError\u001b[0m\u001b[0;31m:\u001b[0m invalid syntax\n"
     ]
    }
   ],
   "source": [
    "class color:\n",
    "    def show(self):\n",
    "        print(\"You can see me\"\n",
    "orange=color()\n",
    "orange.show()"
   ]
  },
  {
   "cell_type": "code",
   "execution_count": 39,
   "metadata": {},
   "outputs": [
    {
     "ename": "SyntaxError",
     "evalue": "invalid syntax (<ipython-input-39-c4932a1ce9a4>, line 1)",
     "output_type": "error",
     "traceback": [
      "\u001b[0;36m  File \u001b[0;32m\"<ipython-input-39-c4932a1ce9a4>\"\u001b[0;36m, line \u001b[0;32m1\u001b[0m\n\u001b[0;31m    Un constructor que Python nos presta cuando olvidamos incluir uno.\u001b[0m\n\u001b[0m                 ^\u001b[0m\n\u001b[0;31mSyntaxError\u001b[0m\u001b[0;31m:\u001b[0m invalid syntax\n"
     ]
    }
   ],
   "source": [
    "Un constructor que Python nos presta cuando olvidamos incluir uno.\n",
    "Este"
   ]
  },
  {
   "cell_type": "code",
   "execution_count": 52,
   "metadata": {},
   "outputs": [
    {
     "data": {
      "text/plain": [
       "1024"
      ]
     },
     "execution_count": 52,
     "metadata": {},
     "output_type": "execute_result"
    }
   ],
   "source": [
    "class itspower:\n",
    "    def __init__(self,x):\n",
    "        self.x=x\n",
    "    def __pow__(self,other):\n",
    "        return self.x**other.x\n",
    "a=itspower(2)\n",
    "b=itspower(10)\n",
    "a**b"
   ]
  },
  {
   "cell_type": "code",
   "execution_count": 53,
   "metadata": {},
   "outputs": [
    {
     "name": "stdout",
     "output_type": "stream",
     "text": [
      "24\n"
     ]
    }
   ],
   "source": [
    "def factorial(n):\n",
    "    f=1\n",
    "    while n>0:\n",
    "        f*=n\n",
    "        n-=1\n",
    "    print(f)\n",
    "factorial(4)"
   ]
  },
  {
   "cell_type": "code",
   "execution_count": 56,
   "metadata": {},
   "outputs": [
    {
     "name": "stdout",
     "output_type": "stream",
     "text": [
      "Valor inicial -> 5\n",
      "Valor inicial -> 4\n",
      "Valor inicial -> 3\n",
      "Valor inicial -> 2\n",
      "Valor inicial -> 1\n",
      "valor final -> 1\n",
      "valor final -> 2\n",
      "valor final -> 6\n",
      "valor final -> 24\n",
      "valor final -> 120\n",
      "120\n"
     ]
    }
   ],
   "source": [
    "def factorial(numero):\n",
    "    print (\"Valor inicial ->\",numero)\n",
    "    if numero > 1:\n",
    "        numero = numero * factorial(numero -1)\n",
    "    print (\"valor final ->\",numero)\n",
    ".    return numero\n",
    "p.rint (factorial(5))"
   ]
  },
  {
   "cell_type": "code",
   "execution_count": null,
   "metadata": {},
   "outputs": [],
   "source": []
  }
 ],
 "metadata": {
  "kernelspec": {
   "display_name": "Python 3",
   "language": "python",
   "name": "python3"
  },
  "language_info": {
   "codemirror_mode": {
    "name": "ipython",
    "version": 3
   },
   "file_extension": ".py",
   "mimetype": "text/x-python",
   "name": "python",
   "nbconvert_exporter": "python",
   "pygments_lexer": "ipython3",
   "version": "3.5.2"
  }
 },
 "nbformat": 4,
 "nbformat_minor": 2
}
